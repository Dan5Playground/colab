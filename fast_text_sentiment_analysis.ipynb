{
  "nbformat": 4,
  "nbformat_minor": 0,
  "metadata": {
    "colab": {
      "name": "fast_text_sentiment_analysis.ipynb",
      "provenance": [],
      "collapsed_sections": [],
      "include_colab_link": true
    },
    "kernelspec": {
      "name": "python3",
      "display_name": "Python 3"
    }
  },
  "cells": [
    {
      "cell_type": "markdown",
      "metadata": {
        "id": "view-in-github",
        "colab_type": "text"
      },
      "source": [
        "<a href=\"https://colab.research.google.com/github/Dan5Playground/colab/blob/master/fast_text_sentiment_analysis.ipynb\" target=\"_parent\"><img src=\"https://colab.research.google.com/assets/colab-badge.svg\" alt=\"Open In Colab\"/></a>"
      ]
    },
    {
      "cell_type": "markdown",
      "metadata": {
        "id": "jeqsMhZFVGoJ",
        "colab_type": "text"
      },
      "source": [
        "sentiment analysis with fasttext\n",
        "- corpus : [sentiment140](http://help.sentiment140.com/for-students/) dataset that contains 1,600,000 tweets extracted using the twitter api. The extracted tweets have been annotated with 2 keys: 0 = negative and 4 = positive. \n",
        "- method : [FastText](https://github.com/facebookresearch/fastText) , Facebook’s open source library for fast text representation and classification."
      ]
    },
    {
      "cell_type": "markdown",
      "metadata": {
        "id": "_-38RieFXtG3",
        "colab_type": "text"
      },
      "source": [
        "# Installing FastText\n",
        "- FastText Version: 0.2.0\n",
        "- This will generate object files for all the classes and the main binary fasttext"
      ]
    },
    {
      "cell_type": "code",
      "metadata": {
        "id": "QmZAQ5B_WZVh",
        "colab_type": "code",
        "colab": {}
      },
      "source": [
        "!wget https://github.com/facebookresearch/fastText/archive/v0.2.0.zip\n",
        "!unzip v0.2.0.zip\n",
        "%cd fastText-0.2.0\n",
        "!make"
      ],
      "execution_count": 0,
      "outputs": []
    },
    {
      "cell_type": "code",
      "metadata": {
        "id": "NnEKdSczai8t",
        "colab_type": "code",
        "outputId": "4a802bab-fafd-4a4b-d6bc-98f30329fd79",
        "colab": {
          "base_uri": "https://localhost:8080/",
          "height": 360
        }
      },
      "source": [
        "!git clone https://github.com/facebookresearch/fastText.git\n",
        "%cd fastText\n",
        "!pip install ."
      ],
      "execution_count": 4,
      "outputs": [
        {
          "output_type": "stream",
          "text": [
            "Cloning into 'fastText'...\n",
            "remote: Enumerating objects: 48, done.\u001b[K\n",
            "remote: Counting objects: 100% (48/48), done.\u001b[K\n",
            "remote: Compressing objects: 100% (34/34), done.\u001b[K\n",
            "remote: Total 3531 (delta 15), reused 31 (delta 10), pack-reused 3483\u001b[K\n",
            "Receiving objects: 100% (3531/3531), 8.04 MiB | 30.06 MiB/s, done.\n",
            "Resolving deltas: 100% (2208/2208), done.\n",
            "/content/fastText\n",
            "Processing /content/fastText\n",
            "Requirement already satisfied: pybind11>=2.2 in /usr/local/lib/python3.6/dist-packages (from fasttext==0.9.1) (2.4.3)\n",
            "Requirement already satisfied: setuptools>=0.7.0 in /usr/local/lib/python3.6/dist-packages (from fasttext==0.9.1) (41.4.0)\n",
            "Requirement already satisfied: numpy in /usr/local/lib/python3.6/dist-packages (from fasttext==0.9.1) (1.17.3)\n",
            "Building wheels for collected packages: fasttext\n",
            "  Building wheel for fasttext (setup.py) ... \u001b[?25l\u001b[?25hdone\n",
            "  Created wheel for fasttext: filename=fasttext-0.9.1-cp36-cp36m-linux_x86_64.whl size=2824913 sha256=ec391de0fadb8b16f075f61368e220e0d10e282286b06ce3e179055783b87f7a\n",
            "  Stored in directory: /tmp/pip-ephem-wheel-cache-rj4ucsgp/wheels/a1/9f/52/696ce6c5c46325e840c76614ee5051458c0df10306987e7443\n",
            "Successfully built fasttext\n",
            "Installing collected packages: fasttext\n",
            "Successfully installed fasttext-0.9.1\n"
          ],
          "name": "stdout"
        }
      ]
    },
    {
      "cell_type": "code",
      "metadata": {
        "id": "ousfcolnYagI",
        "colab_type": "code",
        "outputId": "dfd27874-7b9c-4a48-8fd6-4206727a0e5a",
        "colab": {
          "base_uri": "https://localhost:8080/",
          "height": 204
        }
      },
      "source": [
        "!pip install kaggle\n",
        "!mkdir /root/.kaggle\n",
        "\n",
        "!ls /root/.kaggle\n",
        "\n",
        "open('/root/.kaggle/kaggle.json','w').write('{\"username\":\"vaqasam\",\"key\":\"2ec5d91c66a678bc314920e84c687f3b\"}')\n",
        "!chmod 600 /root/.kaggle/kaggle.json"
      ],
      "execution_count": 5,
      "outputs": [
        {
          "output_type": "stream",
          "text": [
            "Requirement already satisfied: kaggle in /usr/local/lib/python3.6/dist-packages (1.5.6)\n",
            "Requirement already satisfied: requests in /usr/local/lib/python3.6/dist-packages (from kaggle) (2.21.0)\n",
            "Requirement already satisfied: tqdm in /usr/local/lib/python3.6/dist-packages (from kaggle) (4.28.1)\n",
            "Requirement already satisfied: python-slugify in /usr/local/lib/python3.6/dist-packages (from kaggle) (4.0.0)\n",
            "Requirement already satisfied: six>=1.10 in /usr/local/lib/python3.6/dist-packages (from kaggle) (1.12.0)\n",
            "Requirement already satisfied: python-dateutil in /usr/local/lib/python3.6/dist-packages (from kaggle) (2.6.1)\n",
            "Requirement already satisfied: certifi in /usr/local/lib/python3.6/dist-packages (from kaggle) (2019.9.11)\n",
            "Requirement already satisfied: urllib3<1.25,>=1.21.1 in /usr/local/lib/python3.6/dist-packages (from kaggle) (1.24.3)\n",
            "Requirement already satisfied: idna<2.9,>=2.5 in /usr/local/lib/python3.6/dist-packages (from requests->kaggle) (2.8)\n",
            "Requirement already satisfied: chardet<3.1.0,>=3.0.2 in /usr/local/lib/python3.6/dist-packages (from requests->kaggle) (3.0.4)\n",
            "Requirement already satisfied: text-unidecode>=1.3 in /usr/local/lib/python3.6/dist-packages (from python-slugify->kaggle) (1.3)\n"
          ],
          "name": "stdout"
        }
      ]
    },
    {
      "cell_type": "code",
      "metadata": {
        "id": "xWflri42WjfS",
        "colab_type": "code",
        "outputId": "6aaded70-5507-4e54-8eb5-aadb586baeb0",
        "colab": {
          "base_uri": "https://localhost:8080/",
          "height": 85
        }
      },
      "source": [
        "%cd /content\n",
        "!kaggle datasets download kazanova/sentiment140\n"
      ],
      "execution_count": 6,
      "outputs": [
        {
          "output_type": "stream",
          "text": [
            "/content\n",
            "Downloading sentiment140.zip to /content\n",
            " 93% 75.0M/80.9M [00:02<00:00, 34.0MB/s]\n",
            "100% 80.9M/80.9M [00:02<00:00, 33.7MB/s]\n"
          ],
          "name": "stdout"
        }
      ]
    },
    {
      "cell_type": "code",
      "metadata": {
        "id": "xVSGWg-9YHpB",
        "colab_type": "code",
        "outputId": "5bb094ff-3c2b-4097-8df7-b8b289274998",
        "colab": {
          "base_uri": "https://localhost:8080/",
          "height": 51
        }
      },
      "source": [
        "!unzip sentiment140.zip"
      ],
      "execution_count": 5,
      "outputs": [
        {
          "output_type": "stream",
          "text": [
            "Archive:  sentiment140.zip\n",
            "  inflating: training.1600000.processed.noemoticon.csv  \n"
          ],
          "name": "stdout"
        }
      ]
    },
    {
      "cell_type": "code",
      "metadata": {
        "id": "ddFw3c72ZAmg",
        "colab_type": "code",
        "colab": {}
      },
      "source": [
        "import csv  \n",
        "import re\n",
        "\n",
        "train = open('tweets.train','w')  \n",
        "test = open('tweets.valid','w')  \n",
        "with open('training.1600000.processed.noemoticon.csv', mode='r', encoding = \"ISO-8859-1\") as csv_file:  \n",
        "    csv_reader = csv.DictReader(csv_file, fieldnames=['target', 'id', 'date', 'flag', 'user', 'text'])\n",
        "    line = 0\n",
        "    for row in csv_reader:\n",
        "        # Clean the training data\n",
        "        # First we lower case the text\n",
        "        text = row[\"text\"].lower()\n",
        "        # remove links\n",
        "        text = re.sub('((www\\.[^\\s]+)|(https?://[^\\s]+))','',text)\n",
        "        #Remove usernames\n",
        "        text = re.sub('@[^\\s]+','', text)\n",
        "        # replace hashtags by just words\n",
        "        text = re.sub(r'#([^\\s]+)', r'\\1', text)\n",
        "        #correct all multiple white spaces to a single white space\n",
        "        text = re.sub('[\\s]+', ' ', text)\n",
        "        # Additional clean up : removing words less than 3 chars, and remove space at the beginning and teh end\n",
        "        text = re.sub(r'\\W*\\b\\w{1,3}\\b', '', text)\n",
        "        text = text.strip()\n",
        "        line = line + 1\n",
        "        # Split data into train and validation\n",
        "        if line%16 == 0:\n",
        "            print(f'__label__{row[\"target\"]} {text}', file=test)\n",
        "        else:\n",
        "            print(f'__label__{row[\"target\"]} {text}', file=train)"
      ],
      "execution_count": 0,
      "outputs": []
    },
    {
      "cell_type": "code",
      "metadata": {
        "id": "Z-ZIwz9wZQZT",
        "colab_type": "code",
        "outputId": "4f52a771-6ac1-4d1e-b9c6-45cfb3e590a8",
        "colab": {
          "base_uri": "https://localhost:8080/",
          "height": 85
        }
      },
      "source": [
        "!./fastText-0.2.0/fasttext supervised -input tweets.train -output model_tweet -lr 0.1 -epoch 30"
      ],
      "execution_count": 43,
      "outputs": [
        {
          "output_type": "stream",
          "text": [
            "Read 13M words\n",
            "Number of words:  578539\n",
            "Number of labels: 2\n",
            "Progress: 100.0% words/sec/thread:  279158 lr:  0.000000 loss:  0.314597 ETA:   0h 0m\n"
          ],
          "name": "stdout"
        }
      ]
    },
    {
      "cell_type": "code",
      "metadata": {
        "id": "VocQThUCZyAr",
        "colab_type": "code",
        "colab": {
          "base_uri": "https://localhost:8080/",
          "height": 68
        },
        "outputId": "b7bac79f-e4c5-4436-90ab-b603662fa305"
      },
      "source": [
        "# test the model \n",
        "! ./fastText-0.2.0/fasttext test model_tweet.bin tweets.valid"
      ],
      "execution_count": 44,
      "outputs": [
        {
          "output_type": "stream",
          "text": [
            "N\t99880\n",
            "P@1\t0.753\n",
            "R@1\t0.753\n"
          ],
          "name": "stdout"
        }
      ]
    },
    {
      "cell_type": "code",
      "metadata": {
        "id": "LRVeYyQ3bxb3",
        "colab_type": "code",
        "colab": {}
      },
      "source": [
        "# some basic analysis for the training data \n",
        "import pandas as pd \n",
        "data =  pd.read_csv('training.1600000.processed.noemoticon.csv', header = None, encoding = \"ISO-8859-1\", error_bad_lines=False) #pd.read_csv(\"tweets.valid\")\n",
        "data[0].unique()"
      ],
      "execution_count": 0,
      "outputs": []
    },
    {
      "cell_type": "code",
      "metadata": {
        "id": "tRZwPJ55eh25",
        "colab_type": "code",
        "colab": {
          "base_uri": "https://localhost:8080/",
          "height": 34
        },
        "outputId": "c2b7ca16-b7a1-4a83-97bc-2038db8b8e39"
      },
      "source": [
        ""
      ],
      "execution_count": 36,
      "outputs": [
        {
          "output_type": "execute_result",
          "data": {
            "text/plain": [
              "array([0, 4])"
            ]
          },
          "metadata": {
            "tags": []
          },
          "execution_count": 36
        }
      ]
    },
    {
      "cell_type": "code",
      "metadata": {
        "id": "ww263aPRcezW",
        "colab_type": "code",
        "colab": {
          "base_uri": "https://localhost:8080/",
          "height": 51
        },
        "outputId": "df1c1abe-ecd3-4925-aad9-12caf672c0d9"
      },
      "source": [
        "def process_text(row):\n",
        "  if row['target'][0]\n",
        "data.apply (lambda row: process_text(row), axis=1)"
      ],
      "execution_count": 28,
      "outputs": [
        {
          "output_type": "execute_result",
          "data": {
            "text/plain": [
              "0    __label__0 wish watch with miss premiere?!\n",
              "Name: 0, dtype: object"
            ]
          },
          "metadata": {
            "tags": []
          },
          "execution_count": 28
        }
      ]
    },
    {
      "cell_type": "code",
      "metadata": {
        "id": "X5PWbhOzZ3ze",
        "colab_type": "code",
        "outputId": "88c1efdd-9521-45c0-b7d2-bc36c9330edc",
        "colab": {
          "base_uri": "https://localhost:8080/",
          "height": 102
        }
      },
      "source": [
        "from fasttext import load_model\n",
        "\n",
        "classifier = load_model(\"/content/model_tweet.bin\")  \n",
        "texts = \"The only reason people make Coming Out videos is to get attention.\"\n",
        "\n",
        "labels = classifier.predict(texts)  \n",
        "print (labels)  \n",
        "\n",
        "texts = \"I am gay\"\n",
        "labels = classifier.predict(texts)  \n",
        "print (labels[0][0])  \n",
        "texts = \"this video make my heart melted \"\n",
        "labels = classifier.predict(texts)  \n",
        "print (labels)  \n",
        " \n",
        "\n",
        "texts = \"And dont come at me saying that's wrong because it is against the bible\"\n",
        "labels = classifier.predict(texts)  \n",
        "print (labels)  \n",
        "\n",
        "# texts = ['Ugghhh... Not happy at all! sorry', 'Happyyyyyyy', 'OH yeah! lets rock.']\n",
        "# And dont come at me saying that's wrong because it is against the bible"
      ],
      "execution_count": 25,
      "outputs": [
        {
          "output_type": "stream",
          "text": [
            "\n"
          ],
          "name": "stderr"
        },
        {
          "output_type": "stream",
          "text": [
            "(('__label__4',), array([0.53116578]))\n",
            "__label__4\n",
            "(('__label__0',), array([0.63748825]))\n",
            "(('__label__0',), array([0.78817308]))\n"
          ],
          "name": "stdout"
        }
      ]
    },
    {
      "cell_type": "code",
      "metadata": {
        "id": "XbGxBRiYa4TJ",
        "colab_type": "code",
        "outputId": "11500f68-1eb8-472f-84d9-709cda2853a5",
        "colab": {
          "base_uri": "https://localhost:8080/",
          "height": 122
        }
      },
      "source": [
        "from google.colab import drive\n",
        "drive.mount('/content/gdrive')"
      ],
      "execution_count": 3,
      "outputs": [
        {
          "output_type": "stream",
          "text": [
            "Go to this URL in a browser: https://accounts.google.com/o/oauth2/auth?client_id=947318989803-6bn6qk8qdgf4n4g3pfee6491hc0brc4i.apps.googleusercontent.com&redirect_uri=urn%3Aietf%3Awg%3Aoauth%3A2.0%3Aoob&scope=email%20https%3A%2F%2Fwww.googleapis.com%2Fauth%2Fdocs.test%20https%3A%2F%2Fwww.googleapis.com%2Fauth%2Fdrive%20https%3A%2F%2Fwww.googleapis.com%2Fauth%2Fdrive.photos.readonly%20https%3A%2F%2Fwww.googleapis.com%2Fauth%2Fpeopleapi.readonly&response_type=code\n",
            "\n",
            "Enter your authorization code:\n",
            "··········\n",
            "Mounted at /content/gdrive\n"
          ],
          "name": "stdout"
        }
      ]
    },
    {
      "cell_type": "code",
      "metadata": {
        "id": "tXBfp8cGBVc3",
        "colab_type": "code",
        "colab": {}
      },
      "source": [
        "# save the model \n",
        "!cp /content/model_tweet.bin \"/content/gdrive/My Drive/model_tweet.bin\""
      ],
      "execution_count": 0,
      "outputs": []
    },
    {
      "cell_type": "markdown",
      "metadata": {
        "id": "s1ZVVX20u-Gz",
        "colab_type": "text"
      },
      "source": [
        "## dataset 2 : \n",
        "\n",
        "IMDB "
      ]
    },
    {
      "cell_type": "code",
      "metadata": {
        "id": "q-JE2tFxUqW9",
        "colab_type": "code",
        "colab": {}
      },
      "source": [
        "# data set 2 \n",
        "train the model with IMDB moive reviews\n",
        "\n"
      ],
      "execution_count": 0,
      "outputs": []
    },
    {
      "cell_type": "code",
      "metadata": {
        "id": "PzRUL-dmN0Yh",
        "colab_type": "code",
        "colab": {
          "base_uri": "https://localhost:8080/",
          "height": 34
        },
        "outputId": "d0fbbafd-a066-4c3e-9a28-5aa45a38c9ad"
      },
      "source": [
        "!ls"
      ],
      "execution_count": 7,
      "outputs": [
        {
          "output_type": "stream",
          "text": [
            "sample_data  sentiment140.zip\n"
          ],
          "name": "stdout"
        }
      ]
    },
    {
      "cell_type": "code",
      "metadata": {
        "id": "zXB-vRKJNqQ-",
        "colab_type": "code",
        "colab": {
          "base_uri": "https://localhost:8080/",
          "height": 68
        },
        "outputId": "7074b58f-695c-4886-d2d2-d064398fd46c"
      },
      "source": [
        "!kaggle datasets download iarunava/imdb-movie-reviews-dataset"
      ],
      "execution_count": 8,
      "outputs": [
        {
          "output_type": "stream",
          "text": [
            "Downloading imdb-movie-reviews-dataset.zip to /content\n",
            " 91% 203M/224M [00:05<00:00, 26.0MB/s]\n",
            "100% 224M/224M [00:05<00:00, 44.0MB/s]\n"
          ],
          "name": "stdout"
        }
      ]
    },
    {
      "cell_type": "code",
      "metadata": {
        "id": "ViCf0uO2N_YP",
        "colab_type": "code",
        "colab": {}
      },
      "source": [
        "!unzip imdb-movie-reviews-dataset.zip"
      ],
      "execution_count": 0,
      "outputs": []
    },
    {
      "cell_type": "code",
      "metadata": {
        "id": "wx8KHFMYSUD0",
        "colab_type": "code",
        "colab": {
          "base_uri": "https://localhost:8080/",
          "height": 51
        },
        "outputId": "0f39ba74-edc0-4e3c-b9ce-ec2ea4b91b54"
      },
      "source": [
        "!ls aclimdb/aclImdb/train"
      ],
      "execution_count": 14,
      "outputs": [
        {
          "output_type": "stream",
          "text": [
            "labeledBow.feat  pos\tunsupBow.feat  urls_pos.txt\n",
            "neg\t\t unsup\turls_neg.txt   urls_unsup.txt\n"
          ],
          "name": "stdout"
        }
      ]
    },
    {
      "cell_type": "code",
      "metadata": {
        "id": "P5JFGxxBSfsq",
        "colab_type": "code",
        "colab": {
          "base_uri": "https://localhost:8080/",
          "height": 34
        },
        "outputId": "50c9038b-972e-462f-b067-02f06299d3e7"
      },
      "source": [
        "!ls aclImdb"
      ],
      "execution_count": 13,
      "outputs": [
        {
          "output_type": "stream",
          "text": [
            "imdbEr.txt  imdb.vocab\tREADME\ttest  train\n"
          ],
          "name": "stdout"
        }
      ]
    },
    {
      "cell_type": "code",
      "metadata": {
        "id": "J416yiodOXy7",
        "colab_type": "code",
        "colab": {
          "base_uri": "https://localhost:8080/",
          "height": 187
        },
        "outputId": "f37dba72-010e-414e-c4c0-356372ae3196"
      },
      "source": [
        "import csv  \n",
        "import re\n",
        "import os\n",
        "\n",
        "#train = open('imdb.train','w')  \n",
        "test = open('imdb.valid','w')  \n",
        "# open all training files \n",
        "path = 'aclimdb/aclImdb/test/'\n",
        "for folder in ['neg', 'pos']: # os.listdir(path):\n",
        "  #print(folder)\n",
        "  i = 0\n",
        "  for filename in os.listdir(path + '/' +folder + '/'):\n",
        "    i+=1\n",
        "    if i < 5:\n",
        "      print (i)\n",
        "    \n",
        "    with open(path + '/' +folder + '/' + filename) as file: # Use file to refer to the file object\n",
        "      data = file.read()\n",
        "      # print (data)\n",
        "      # Clean the training data\n",
        "      # First we lower case the text\n",
        "      text = data.lower()\n",
        "      # remove links\n",
        "      text = re.sub('((www\\.[^\\s]+)|(https?://[^\\s]+))','',text)\n",
        "      #Remove usernames\n",
        "      text = re.sub('@[^\\s]+','', text)\n",
        "      # replace hashtags by just words\n",
        "      text = re.sub(r'#([^\\s]+)', r'\\1', text)\n",
        "      #correct all multiple white spaces to a single white space\n",
        "      text = re.sub('[\\s]+', ' ', text)\n",
        "      # Additional clean up : removing words less than 3 chars, and remove space at the beginning and teh end\n",
        "      text = re.sub(r'\\W*\\b\\w{1,3}\\b', '', text)\n",
        "      text = text.strip()\n",
        "      target = 0 if folder == 'neg' else 1\n",
        "      print(f'__label__{target} {text}', file=test)\n",
        "  print (folder, i)\n",
        "#train.close()\n",
        "test.close()\n"
      ],
      "execution_count": 51,
      "outputs": [
        {
          "output_type": "stream",
          "text": [
            "1\n",
            "2\n",
            "3\n",
            "4\n",
            "neg 12500\n",
            "1\n",
            "2\n",
            "3\n",
            "4\n",
            "pos 12500\n"
          ],
          "name": "stdout"
        }
      ]
    },
    {
      "cell_type": "code",
      "metadata": {
        "id": "UuHKI3uYXe0v",
        "colab_type": "code",
        "colab": {
          "base_uri": "https://localhost:8080/",
          "height": 51
        },
        "outputId": "e6b3c85f-2e20-46fe-943b-80758ac5e7d1"
      },
      "source": [
        "%cd /content\n",
        "!ls"
      ],
      "execution_count": 2,
      "outputs": [
        {
          "output_type": "stream",
          "text": [
            "/content\n",
            "fastText-0.2.0\tsample_data  v0.2.0.zip\n"
          ],
          "name": "stdout"
        }
      ]
    },
    {
      "cell_type": "code",
      "metadata": {
        "id": "67zEPxbQXSmC",
        "colab_type": "code",
        "colab": {
          "base_uri": "https://localhost:8080/",
          "height": 85
        },
        "outputId": "7cad11c6-c426-4ab9-8c49-a3f7209a6b8f"
      },
      "source": [
        "!./fastText-0.2.0/fasttext supervised -input imdb.train -output model_imdb -lr 0.1 -epoch 90"
      ],
      "execution_count": 58,
      "outputs": [
        {
          "output_type": "stream",
          "text": [
            "Read 3M words\n",
            "Number of words:  184290\n",
            "Number of labels: 2\n",
            "Progress: 100.0% words/sec/thread:  347150 lr:  0.000000 loss:  0.029013 ETA:   0h 0m\n"
          ],
          "name": "stdout"
        }
      ]
    },
    {
      "cell_type": "code",
      "metadata": {
        "id": "6xJe5PLAYWp2",
        "colab_type": "code",
        "colab": {
          "base_uri": "https://localhost:8080/",
          "height": 68
        },
        "outputId": "3f8ac8ab-4a4e-484d-f771-fa068c2d6868"
      },
      "source": [
        "# test the model \n",
        "! ./fastText-0.2.0/fasttext test model_imdb.bin imdb.valid"
      ],
      "execution_count": 60,
      "outputs": [
        {
          "output_type": "stream",
          "text": [
            "N\t25000\n",
            "P@1\t0.856\n",
            "R@1\t0.856\n"
          ],
          "name": "stdout"
        }
      ]
    },
    {
      "cell_type": "code",
      "metadata": {
        "id": "aro8e-s2ekG4",
        "colab_type": "code",
        "colab": {}
      },
      "source": [
        "# save the model \n",
        "!cp /content/model_imdb.bin \"/content/gdrive/My Drive/model_imdb'[''''''''''''''''''''''''''''''''''''''''''''''''''''''''''''''''''''''''''''''''''''''''''''''''''''''''''''''''''''''''''''''''''''''''''''''''''''''''''''''''''''''''''''''''''''''''''''''''''''''''''''''''''''''''''''''''''''''''''''''''''''''''''''''''''''''''''''''''''''''''''''''''''''''''''''''''''''''''''''''''''''''''''''''''''''''''''''''''''''''''''''''''''''''''''''''''''''''''''''''''''''''''''''''''''''''''''''''''''''''''''''''''''''''''''''''''''''''''''''''''''''''''''''''''''''''''''''''''''''''''''''''''''''''''''''''''''''''''''''''''''''''''''''''''''''''''''''''''''''''''''''''''''''''''''''''''''''''''''''''''''''''''''''''''''''''''''''''''''''''''''''''''''''''''''''''''''''''''''''''''''''''''''''''''''''''''''''''''''''''''''''''''''''''''''''''''''''''''''''''''''''''''''''''''''''''''''''''''''''''''''''''''''''''''''''''''''''''''''''''''''''''''''''''''''''''''''''''''''''''''''''''''''''''''''''''''''''''''''''''''''''''''''''''''''''''''''''''''''''''''''''''''''''''''''''''''''''''''''''''''''''''''''''''''''''''''''''''''''''''''''''''''''''''''''''''''''''''''''''''''''''''''''''''''''''''''''''''''''''''''''''''''''''''''''''''''''''''''''''''''''''''''''''''''''''''''''''''''''''''''''''''''''''''''''''''''''''''''''''''''''''''''''''''''''''''''''''''''''''''''''''''''''''''''''''''''''''''''''''''''''''''''''''''''''''''''''''''''''''''''''''''''''''''''''''''''''''''''''''''''''''''''''''''''''''''''''''''''''''''''''''''''''''''''''''''''''''''''''''''''''''''''''''''''''''''''''''''''''''''''''''''''''''''''''''''''''''''''''''''''''''''''''''''''''''''''''''''''''''''''''''''''''''''''''''''''''''''''''''''''''''''''''''''''''''''''''''''''''''''''''''''''''''''''''''''''''''''''''''''''''''''''''''''''''''''''''''''''''''''''''''''''''''''''''''''''''''''''''''''''''''''''''''''''''''''''''''''''''''''''''''''''''''''''''''''''''''''''''''''''''''''''''''''''''''''''''''''''''''''''''''''''''''''''''''''''''''''''''''''''''''''''''''''''''''''''''''''''''''''''''''''''''''''''''''''''''''''''''''''''''''''''''''''''''''''''''''''''''''''''''''''''''''''''''''''''''''''''''''''''''''''''''''''''''''''''''''''''''''''''''''''''''''''''''''''''''''''''''''''''''''''''''''''''''''''''''''''''''''''''''''''''''''''''''''''''''''''''''''''''''''''''''''''''''''''''''''''''''''''''''''''''''''''''''''''''''''''''''''''''''''''''''''''''''''''''''''''''''''''''''''''''''''''''''''''''''''''''''''''''''''''''''''''''''''''''''''''''''''''''''''''''''''''''''''''''''''''''''''''''''''''''''''''''''''''''''''''''''''''''''''''''''''''''''''''''''''''''''''''''''''''''''''''''''''''''''''''''''''''''''''''''''''''''''''''''''''''''''''''''''''''''''''''''''''''''''''''''''''''''''''''''''''''''''''''''''''''''''''''''''''''''''''''''''''''''''''''''''''''''''''''''''''''''''''''''''''''''''''''''''''''''''''''''''''''''''''''''''''''''''''''''''''''''''''''''''''''''''''''''''''''''''''''''''''''''''''''''''''''''''''''''''''''''''''''''''''''''''''''''''''''''''''''''''''''''''''''''''''''''''''''''''''''''''''''''''''''''''''''''''''''''''''''''''''''''''''''''''''''''''''''''''''''''''''''''''''''''''''''''''''''''''''''''''''''''''''''''''''''''''''''''''''''''''''''''''''''''''''''''''''''''''''''''''''''''''''''''''''''''''''''''''''''''''''''''''''''''''''''''''''''''''''''''''''''''''''''''''''''''''''''''''''''''''''''''''''''''''''''''''''''''''''''''''''''''''''''''''''''''''''''''''''''''''''''''''''''''''''''''''''''''''''''''''''''''''''''''''''''''''''''''''''''''''''''''''''''''''''''''''''''''''''''''''''''''''''''''''''''''''''''''''''''''''''''''''''''''''''''''''''''''''''''''''''''''''''''''''''''''''''''''''''''''''''''''''''''''''''''''''''''''''''''''''''''''''''''''''''''''''''''''''''''''''''''''''''''''''''''''''''''''''''''''''''''''''''''''''''''''''''''''''''''''''''''''''''''''''''''''''''''''''''''''''''''''''''''''''''''''''''''''''''''''''''''''''''''''''''''''''''''''''''''''''''''''''''''''''''''''''''''''''''''''''''''''''''''''''''''''''''''''''''''''''''''''''''''''''''''''''''''''''''''''''''''''''''''''''''''''''''''''''''''''''''''''''''''''''''''''''''''''''''''''''''''''''''''''''''''''''''''''''''''''''''''''''''''''''''''''''''''''''''''''''''''''''''''''''''''''''''''''''''''''''''''''''''''''''''''''''''''''''''''''''''''''''''''''''''''''''''''''''''''''''''''''''''''''''''''''''''''''''''''''''''''''''''''''''''''''''''''''''''''''''''''''''''''''''''''''''''''''''''''''''''''''''''''''''''''''''''''''''''''''''''''''''''''''''''''''''''''''''''''''''''''''''''''''''''''''''''''''''''''''''''''''''''''''''''''''''''''''''''''''''''''''''''''''''''''''''''''''''''''''''''''''''''''''''''''''''''''''''''''''''''''''''''''''''''''''''''''''''''''''''''''''''''''''''''''''''''''''''''''''''''''''''''''''''''''''''''''''''''''''''''''''''''''''''''''''''''''''''''''''''''''''''''''''''''''''''''''''''''''''''''''''''''''''''''''''''''''''''''''''''''''''''''''''''''''''''''''''''''''''''''''''''''''''''''''''''''''''''''''''''''''''''''''''''''''''''''''''''''''''''''''''''''''''''''''''''''''''''''''''''''''''''''''''''''''''''''''''''''''''''''''''''''''''''''''''''''''''''''''''''''''''''''''''''''''''''''''''''''''''''''''''''''''''''''''''''''''''''''''''''''''''''''''''''''''''''''''''''''''''''''''''''''''''''''''''''''''''''''''''''''''''''''''''''''''''''''''''''''''''''''''''''''''''''''''''''''''''''''''''''''''''''''''''''''''''''''''''''''''''''''''''''''''''''''''''''''''''''''''''''''''''''''''''''''''''''''''''''''''''''''''''''''''''''''''''''''''''''''''''''''''''''''''''''''''''''''''''''''''''''''''''''''''''''''''''''''''''''''''''''''''''''''''''''''''''''''''''''''''''''''''''''''''''''''''''''''''''''''''''''''''''''''''''''''''''''''''''''''''''''''''''''''''''''''''''''''''''''''''''''''''''''''''''''''''''''''''''''''''''''''''''''''''''''''''''''''''''''''''''''''''''''''''''''''''''''''''''''''''''''''''''''''''''''''''''''''''''''''''''''''''''''''''''''''''''''''''''''''''''''''''''''''''''''''''''''''''''''''''''''''''''''''''''''''''''''''''''''''''''''''''''''''''''''''''''''''''''''''''''''''''''''''''''''''''''''''''''''''''''''''''''''''''''''''''''''''''''''''''''''''''''''''''''''''''''''''''''''''''''''''''''''''''''''''''''''''''''''''''''''''''''''''''''''''''''''''''''''''''''''''''''''''''''''''''''''''''''''''''''''''''''''''''''''''''''''''''''''''''''''''''''''''''''''''''''''''''''''''''''''''''''''''''''''''''''''''''''''''''''''''''''''''''''''''''''''''''''''''''''''''''''''''''''''''''''''''''''''''''''''''''''''''''''''''''''''''''''''''''''''''''''''''''''''''''''''''''''''''''''''''''''''''''''''''''''''''''''''''''''''''''''''''''''''''''''''''''''''''''''''''''''''''''''''''''''''''''''''''''''''''''''''''''''''''''''''''''''''''''''''''''''''''''''''''''''''''''''''''''''''''''''''''''''''''''''''''''''''''''''''''''''''''''''''''''''''''''''''''''''''''''''''''''''''''''''''''''''''''''''''''''''''''''''''''''''''''''''''''''''''''''''''''''''''''''''''''''''''''''''''''''''''''''''''''''''''''''''''''''''''''''''''''''''''''''''''''''''''''''''''''''''''''''''''''''''''''''''''''''''''''''''''''''''''''''''''''''''''''''''''''''''''''''''''''''''''''''''''''''''''''''''''''''''''''''''''''''''''''''''''''''''''''''''''''''''''''''''''''''''''''''''''''''''''''''''''''''''''''''''''''''''''''''''''''''''''''''''''''''''''''''''''''''''''''''''''''''''''''''''''''''''''''''''''''''''''''''''''''''''''''''''''''''''''''''''''''''''''''''''''''''''''''''''''''''''''''''''''''''''''''''''''''''''''''''''''''''''''''''''''''''''''''''''''''''''''''''''''''''''''''''''''''''''''''''''''''''''''''''''''''''''''''''''''''''''''''''''''''''''''''''''''''''''''''''''''''''''''''''''''''''''''''''''''''''''''''''''''''''''''''''''''''''''''''''''''''''''''''''''''''''''''''''''''''''''''''''''''''''''''''''''''''''''''''''''''''''''''''''''''''''''''''''''''''''''''''''''''''''''''''''''''''''''''''''''''''''''''''''''''''''''''''''''''''''''''''''''''''''''''''''''''''''''''''''''''''''''''''''''''''''''''''''''''''''''''''''''''''''''''''''''''''''''''''''''''''''''''''''''''''''''''''''''''''''''''''''''''''''''''''''''''''''''''''''''''''''''''''''''''''''''''''''''''''''''''''''''''''''''''''''''''''''''''''''''''''''''''''''''''''''''''''''''''''''''''''''''''''''''''''''''''''''''''''''''''''''''''''''''''''''''\n",
        "].bin\""
      ],
      "execution_count": 0,
      "outputs": []
    },
    {
      "cell_type": "code",
      "metadata": {
        "id": "MVi8ryuzAPfu",
        "colab_type": "code",
        "colab": {
          "base_uri": "https://localhost:8080/",
          "height": 105
        },
        "outputId": "1f6e3599-5cce-4389-a97a-d6de2389ce5d"
      },
      "source": [
        "from fasttext import load_model\n",
        "\n",
        "classifier = load_model(\"/content/gdrive/My Drive/model_tweet.bin\") \n",
        "classifier2 = load_model(\"/content/gdrive/My Drive/model_imdb.bin\") \n",
        "texts = [\"the only reason people make Coming Out videos is to get attention.\", \"i am gay\", \"i am lesbian\", \"i hate you\", \"it is really bad \"]\n",
        "\n",
        "labels = classifier.predict(texts)  \n",
        "print (labels)\n",
        "labels = classifier2.predict(texts) \n",
        "print (labels)  "
      ],
      "execution_count": 12,
      "outputs": [
        {
          "output_type": "stream",
          "text": [
            "\n",
            "\n"
          ],
          "name": "stderr"
        },
        {
          "output_type": "stream",
          "text": [
            "([['__label__4'], ['__label__4'], ['__label__4'], ['__label__0'], ['__label__0']], [array([0.5617779], dtype=float32), array([0.8204645], dtype=float32), array([0.6290098], dtype=float32), array([0.9947708], dtype=float32), array([0.59370524], dtype=float32)])\n",
            "([['__label__0'], ['__label__0'], ['__label__0'], ['__label__1'], ['__label__0']], [array([0.99919814], dtype=float32), array([1.00001], dtype=float32), array([1.00001], dtype=float32), array([1.00001], dtype=float32), array([0.99996376], dtype=float32)])\n"
          ],
          "name": "stdout"
        }
      ]
    },
    {
      "cell_type": "code",
      "metadata": {
        "id": "Wiv75DlFDCUy",
        "colab_type": "code",
        "colab": {
          "resources": {
            "http://localhost:8080/nbextensions/google.colab/files.js": {
              "data": "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",
              "ok": true,
              "headers": [
                [
                  "content-type",
                  "application/javascript"
                ]
              ],
              "status": 200,
              "status_text": ""
            }
          },
          "base_uri": "https://localhost:8080/",
          "height": 71
        },
        "outputId": "fe8014b7-2d9c-498a-c023-c69ed4d316cb"
      },
      "source": [
        "from google.colab import files\n",
        "uploaded = files.upload()"
      ],
      "execution_count": 15,
      "outputs": [
        {
          "output_type": "display_data",
          "data": {
            "text/html": [
              "\n",
              "     <input type=\"file\" id=\"files-bc098a70-a5a1-4342-a269-aa506ed4df37\" name=\"files[]\" multiple disabled />\n",
              "     <output id=\"result-bc098a70-a5a1-4342-a269-aa506ed4df37\">\n",
              "      Upload widget is only available when the cell has been executed in the\n",
              "      current browser session. Please rerun this cell to enable.\n",
              "      </output>\n",
              "      <script src=\"/nbextensions/google.colab/files.js\"></script> "
            ],
            "text/plain": [
              "<IPython.core.display.HTML object>"
            ]
          },
          "metadata": {
            "tags": []
          }
        },
        {
          "output_type": "stream",
          "text": [
            "Saving comments-Eh7WRYXVh9M.csv to comments-Eh7WRYXVh9M.csv\n"
          ],
          "name": "stdout"
        }
      ]
    },
    {
      "cell_type": "code",
      "metadata": {
        "id": "xAAzGH8_EHUB",
        "colab_type": "code",
        "colab": {}
      },
      "source": [
        "import pandas as pd\n",
        "data = pd.read_csv(\"comments-Eh7WRYXVh9M.csv\")"
      ],
      "execution_count": 0,
      "outputs": []
    },
    {
      "cell_type": "code",
      "metadata": {
        "id": "wC03CfLvEVb-",
        "colab_type": "code",
        "colab": {
          "base_uri": "https://localhost:8080/",
          "height": 34
        },
        "outputId": "21485880-c7c6-4ca5-dfac-f2e50cdcc6ba"
      },
      "source": [
        "grouped = data.groupby(['id'])\n",
        "i = 0\n",
        "for name, group in grouped:\n",
        "  if i < 100 and (not group.iloc[0]['replies.commentText']):\n",
        "    print (group.iloc[0]['replies.commentText'])\n",
        "  i += 1\n",
        "print (i)"
      ],
      "execution_count": 24,
      "outputs": [
        {
          "output_type": "stream",
          "text": [
            "100349\n"
          ],
          "name": "stdout"
        }
      ]
    },
    {
      "cell_type": "code",
      "metadata": {
        "id": "0KwYtC03J5bA",
        "colab_type": "code",
        "colab": {
          "base_uri": "https://localhost:8080/",
          "height": 85
        },
        "outputId": "ff6af50a-118e-409e-92ea-b84cf7c59d43"
      },
      "source": [
        "data.columns"
      ],
      "execution_count": 26,
      "outputs": [
        {
          "output_type": "execute_result",
          "data": {
            "text/plain": [
              "Index(['id', 'user', 'date', 'timestamp', 'commentText', 'likes', 'hasReplies',\n",
              "       'numberOfReplies', 'replies.id', 'replies.user', 'replies.date',\n",
              "       'replies.timestamp', 'replies.commentText', 'replies.likes'],\n",
              "      dtype='object')"
            ]
          },
          "metadata": {
            "tags": []
          },
          "execution_count": 26
        }
      ]
    },
    {
      "cell_type": "code",
      "metadata": {
        "id": "hsRnFs_qLclT",
        "colab_type": "code",
        "colab": {}
      },
      "source": [
        "import re\n",
        "def preporcess_text(text):\n",
        "  # remove links\n",
        "  text = re.sub('((www\\.[^\\s]+)|(https?://[^\\s]+))','',text)\n",
        "  #Remove usernames\n",
        "  text = re.sub('@[^\\s]+','', text)\n",
        "  # replace hashtags by just words\n",
        "  text = re.sub(r'#([^\\s]+)', r'\\1', text)\n",
        "  #correct all multiple white spaces to a single white space\n",
        "  text = re.sub('[\\s]+', ' ', text)\n",
        "  # Additional clean up : removing words less than 3 chars, and remove space at the beginning and teh end\n",
        "  text = re.sub(r'\\W*\\b\\w{1,3}\\b', '', text)\n",
        "  text = text.strip()\n",
        "  return text\n"
      ],
      "execution_count": 0,
      "outputs": []
    },
    {
      "cell_type": "code",
      "metadata": {
        "id": "haW-Sr6dPDbF",
        "colab_type": "code",
        "colab": {
          "base_uri": "https://localhost:8080/",
          "height": 119
        },
        "outputId": "439cce1e-4898-4b83-9e83-d2c7a324f254"
      },
      "source": [
        "data['sentiment_imdb'] = pd.Series(-1, index=data.index)\n",
        "data['sentiment_twitter'] = pd.Series(-1, index=data.index)\n",
        "data['sentiment_imdb_reply'] = pd.Series(-1, index=data.index)\n",
        "data['sentiment_twitter_reply'] = pd.Series(-1, index=data.index)\n",
        "print (data.columns)"
      ],
      "execution_count": 51,
      "outputs": [
        {
          "output_type": "stream",
          "text": [
            "Index(['id', 'user', 'date', 'timestamp', 'commentText', 'likes', 'hasReplies',\n",
            "       'numberOfReplies', 'replies.id', 'replies.user', 'replies.date',\n",
            "       'replies.timestamp', 'replies.commentText', 'replies.likes',\n",
            "       'sentiment1', 'sentiment_imdb', 'sentiment_twitter',\n",
            "       'sentiment_imdb_reply', 'sentiment_twitter_reply'],\n",
            "      dtype='object')\n"
          ],
          "name": "stdout"
        }
      ]
    },
    {
      "cell_type": "code",
      "metadata": {
        "id": "sZud1_3nGLA6",
        "colab_type": "code",
        "colab": {
          "base_uri": "https://localhost:8080/",
          "height": 309
        },
        "outputId": "686c6cbd-994d-4d26-b9d5-0d59df2d708e"
      },
      "source": [
        "for idx, row in data.iterrows():\n",
        "  #if idx > 100:\n",
        "  #  break\n",
        "  # First we lower case the text\n",
        "  text = str(row['commentText'])\n",
        "  text = preporcess_text(text)\n",
        "  #print(row['replies.commentText'], len(str(row['replies.commentText'])))\n",
        "  if not str(row['replies.commentText']) == 'nan':\n",
        "    reply = row['replies.commentText']\n",
        "    #print(\"replies\", reply)\n",
        "    reply = preporcess_text(reply)\n",
        "    label3 = classifier.predict(reply) \n",
        "    v = 0 if label3[0][0] == '__label__0' else 1\n",
        "    data.at[idx,'sentiment_twitter_reply'] = v\n",
        "    label4 = classifier2.predict(reply)\n",
        "    v = 0 if label4[0][0] == '__label__0' else 1\n",
        "    data.at[idx,'sentiment_imdb_reply'] = v\n",
        "  if len(text) > 0:\n",
        "    label1 = classifier.predict(text)\n",
        "    v = 0 if label1[0][0] == '__label__0' else 1\n",
        "    data.at[idx,'sentiment_twitter'] = v\n",
        "    #row['sentiment_twitter'] = 0 if label1[0][0] == '__label__0' else 1\n",
        "    label2 = classifier2.predict(text) \n",
        "    v = 0 if label2[0][0] == '__label__0' else 1\n",
        "    data.at[idx,'sentiment_imdb'] = v\n",
        "    #row['sentiment_imdb'] =  0 if label2[0][0] == '__label__0' else 1\n",
        "\n",
        "    \n",
        "    if idx % 10000 == 0:\n",
        "      print (text)\n",
        "      print (label1[0], label2[0])\n",
        "\n",
        "\n",
        "  \n"
      ],
      "execution_count": 67,
      "outputs": [
        {
          "output_type": "stream",
          "text": [
            "crying shiit\n",
            "('__label__0',) ('__label__0',)\n",
            "GIRL!!! 👌👌👌\n",
            "('__label__4',) ('__label__0',)\n",
            "that care that much boyfriend recommended videos. Whats with that dawgs..\n",
            "('__label__4',) ('__label__0',)\n",
            "really disagree with this your person proud that this have guts!\n",
            "('__label__4',) ('__label__1',)\n",
            "GIRL!!!! XOXOXO\n",
            "('__label__4',) ('__label__0',)\n",
            "GOOD BEAUTIFUL PROUD! YOUR GORGEOUS PERSON DESERVE HAPPY\n",
            "('__label__4',) ('__label__0',)\n",
            "sweet little cinnamon sweet pure this world didnt bring tissues!\"\n",
            "('__label__4',) ('__label__1',)\n",
            "this unexpected insanely proud Ingrid amazing happy finally yourself makes happy that these youtubers starting come truly amazing proud every single them\n",
            "('__label__4',) ('__label__1',)\n"
          ],
          "name": "stdout"
        }
      ]
    },
    {
      "cell_type": "code",
      "metadata": {
        "id": "xGDZ5NtLZV6l",
        "colab_type": "code",
        "colab": {
          "base_uri": "https://localhost:8080/",
          "height": 85
        },
        "outputId": "39d2d098-8dc5-4fff-87af-4bffc9fc42e9"
      },
      "source": [
        "data.sentiment_imdb_reply.value_counts()"
      ],
      "execution_count": 85,
      "outputs": [
        {
          "output_type": "execute_result",
          "data": {
            "text/plain": [
              "-1    100352\n",
              " 0     28195\n",
              " 1     16296\n",
              "Name: sentiment_imdb_reply, dtype: int64"
            ]
          },
          "metadata": {
            "tags": []
          },
          "execution_count": 85
        }
      ]
    },
    {
      "cell_type": "code",
      "metadata": {
        "id": "jXbftMUVsLka",
        "colab_type": "code",
        "colab": {
          "base_uri": "https://localhost:8080/",
          "height": 34
        },
        "outputId": "8e88dac8-8890-4df7-ae4f-09f70bd1260d"
      },
      "source": [
        "28195/ 44491#(64485+ 34010)"
      ],
      "execution_count": 89,
      "outputs": [
        {
          "output_type": "execute_result",
          "data": {
            "text/plain": [
              "0.6337236744510125"
            ]
          },
          "metadata": {
            "tags": []
          },
          "execution_count": 89
        }
      ]
    },
    {
      "cell_type": "code",
      "metadata": {
        "id": "XOTQeWvfZnQt",
        "colab_type": "code",
        "colab": {
          "base_uri": "https://localhost:8080/",
          "height": 85
        },
        "outputId": "97f3cd9f-4ae6-4c9c-f095-4bf33381740e"
      },
      "source": [
        "data.sentiment_twitter_reply.value_counts()"
      ],
      "execution_count": 86,
      "outputs": [
        {
          "output_type": "execute_result",
          "data": {
            "text/plain": [
              "-1    100352\n",
              " 1     30024\n",
              " 0     14467\n",
              "Name: sentiment_twitter_reply, dtype: int64"
            ]
          },
          "metadata": {
            "tags": []
          },
          "execution_count": 86
        }
      ]
    },
    {
      "cell_type": "code",
      "metadata": {
        "id": "rdcTt5lJkmK3",
        "colab_type": "code",
        "colab": {
          "base_uri": "https://localhost:8080/",
          "height": 379
        },
        "outputId": "6b02ffa8-10c6-4eb8-ab44-de2e49249993"
      },
      "source": [
        "# correltion \n",
        "data.corr()"
      ],
      "execution_count": 70,
      "outputs": [
        {
          "output_type": "execute_result",
          "data": {
            "text/html": [
              "<div>\n",
              "<style scoped>\n",
              "    .dataframe tbody tr th:only-of-type {\n",
              "        vertical-align: middle;\n",
              "    }\n",
              "\n",
              "    .dataframe tbody tr th {\n",
              "        vertical-align: top;\n",
              "    }\n",
              "\n",
              "    .dataframe thead th {\n",
              "        text-align: right;\n",
              "    }\n",
              "</style>\n",
              "<table border=\"1\" class=\"dataframe\">\n",
              "  <thead>\n",
              "    <tr style=\"text-align: right;\">\n",
              "      <th></th>\n",
              "      <th>timestamp</th>\n",
              "      <th>likes</th>\n",
              "      <th>numberOfReplies</th>\n",
              "      <th>replies.timestamp</th>\n",
              "      <th>replies.likes</th>\n",
              "      <th>sentiment1</th>\n",
              "      <th>sentiment_imdb</th>\n",
              "      <th>sentiment_twitter</th>\n",
              "      <th>sentiment_imdb_reply</th>\n",
              "      <th>sentiment_twitter_reply</th>\n",
              "    </tr>\n",
              "  </thead>\n",
              "  <tbody>\n",
              "    <tr>\n",
              "      <th>timestamp</th>\n",
              "      <td>1.000000</td>\n",
              "      <td>0.014180</td>\n",
              "      <td>0.032766</td>\n",
              "      <td>NaN</td>\n",
              "      <td>NaN</td>\n",
              "      <td>NaN</td>\n",
              "      <td>-0.137495</td>\n",
              "      <td>-0.119627</td>\n",
              "      <td>NaN</td>\n",
              "      <td>NaN</td>\n",
              "    </tr>\n",
              "    <tr>\n",
              "      <th>likes</th>\n",
              "      <td>0.014180</td>\n",
              "      <td>1.000000</td>\n",
              "      <td>0.415804</td>\n",
              "      <td>NaN</td>\n",
              "      <td>NaN</td>\n",
              "      <td>NaN</td>\n",
              "      <td>-0.005446</td>\n",
              "      <td>-0.008194</td>\n",
              "      <td>NaN</td>\n",
              "      <td>NaN</td>\n",
              "    </tr>\n",
              "    <tr>\n",
              "      <th>numberOfReplies</th>\n",
              "      <td>0.032766</td>\n",
              "      <td>0.415804</td>\n",
              "      <td>1.000000</td>\n",
              "      <td>NaN</td>\n",
              "      <td>NaN</td>\n",
              "      <td>NaN</td>\n",
              "      <td>-0.040789</td>\n",
              "      <td>-0.047242</td>\n",
              "      <td>NaN</td>\n",
              "      <td>NaN</td>\n",
              "    </tr>\n",
              "    <tr>\n",
              "      <th>replies.timestamp</th>\n",
              "      <td>NaN</td>\n",
              "      <td>NaN</td>\n",
              "      <td>NaN</td>\n",
              "      <td>1.000000</td>\n",
              "      <td>-0.052240</td>\n",
              "      <td>NaN</td>\n",
              "      <td>NaN</td>\n",
              "      <td>NaN</td>\n",
              "      <td>-0.039057</td>\n",
              "      <td>0.007130</td>\n",
              "    </tr>\n",
              "    <tr>\n",
              "      <th>replies.likes</th>\n",
              "      <td>NaN</td>\n",
              "      <td>NaN</td>\n",
              "      <td>NaN</td>\n",
              "      <td>-0.052240</td>\n",
              "      <td>1.000000</td>\n",
              "      <td>NaN</td>\n",
              "      <td>NaN</td>\n",
              "      <td>NaN</td>\n",
              "      <td>0.021756</td>\n",
              "      <td>-0.023219</td>\n",
              "    </tr>\n",
              "    <tr>\n",
              "      <th>sentiment1</th>\n",
              "      <td>NaN</td>\n",
              "      <td>NaN</td>\n",
              "      <td>NaN</td>\n",
              "      <td>NaN</td>\n",
              "      <td>NaN</td>\n",
              "      <td>NaN</td>\n",
              "      <td>NaN</td>\n",
              "      <td>NaN</td>\n",
              "      <td>NaN</td>\n",
              "      <td>NaN</td>\n",
              "    </tr>\n",
              "    <tr>\n",
              "      <th>sentiment_imdb</th>\n",
              "      <td>-0.137495</td>\n",
              "      <td>-0.005446</td>\n",
              "      <td>-0.040789</td>\n",
              "      <td>NaN</td>\n",
              "      <td>NaN</td>\n",
              "      <td>NaN</td>\n",
              "      <td>1.000000</td>\n",
              "      <td>0.867005</td>\n",
              "      <td>-0.796848</td>\n",
              "      <td>-0.820333</td>\n",
              "    </tr>\n",
              "    <tr>\n",
              "      <th>sentiment_twitter</th>\n",
              "      <td>-0.119627</td>\n",
              "      <td>-0.008194</td>\n",
              "      <td>-0.047242</td>\n",
              "      <td>NaN</td>\n",
              "      <td>NaN</td>\n",
              "      <td>NaN</td>\n",
              "      <td>0.867005</td>\n",
              "      <td>1.000000</td>\n",
              "      <td>-0.841952</td>\n",
              "      <td>-0.866765</td>\n",
              "    </tr>\n",
              "    <tr>\n",
              "      <th>sentiment_imdb_reply</th>\n",
              "      <td>NaN</td>\n",
              "      <td>NaN</td>\n",
              "      <td>NaN</td>\n",
              "      <td>-0.039057</td>\n",
              "      <td>0.021756</td>\n",
              "      <td>NaN</td>\n",
              "      <td>-0.796848</td>\n",
              "      <td>-0.841952</td>\n",
              "      <td>1.000000</td>\n",
              "      <td>0.878983</td>\n",
              "    </tr>\n",
              "    <tr>\n",
              "      <th>sentiment_twitter_reply</th>\n",
              "      <td>NaN</td>\n",
              "      <td>NaN</td>\n",
              "      <td>NaN</td>\n",
              "      <td>0.007130</td>\n",
              "      <td>-0.023219</td>\n",
              "      <td>NaN</td>\n",
              "      <td>-0.820333</td>\n",
              "      <td>-0.866765</td>\n",
              "      <td>0.878983</td>\n",
              "      <td>1.000000</td>\n",
              "    </tr>\n",
              "  </tbody>\n",
              "</table>\n",
              "</div>"
            ],
            "text/plain": [
              "                         timestamp  ...  sentiment_twitter_reply\n",
              "timestamp                 1.000000  ...                      NaN\n",
              "likes                     0.014180  ...                      NaN\n",
              "numberOfReplies           0.032766  ...                      NaN\n",
              "replies.timestamp              NaN  ...                 0.007130\n",
              "replies.likes                  NaN  ...                -0.023219\n",
              "sentiment1                     NaN  ...                      NaN\n",
              "sentiment_imdb           -0.137495  ...                -0.820333\n",
              "sentiment_twitter        -0.119627  ...                -0.866765\n",
              "sentiment_imdb_reply           NaN  ...                 0.878983\n",
              "sentiment_twitter_reply        NaN  ...                 1.000000\n",
              "\n",
              "[10 rows x 10 columns]"
            ]
          },
          "metadata": {
            "tags": []
          },
          "execution_count": 70
        }
      ]
    },
    {
      "cell_type": "code",
      "metadata": {
        "id": "e57e5oR2lbm6",
        "colab_type": "code",
        "colab": {
          "base_uri": "https://localhost:8080/",
          "height": 153
        },
        "outputId": "80bf3369-93ec-4791-879a-a30175827901"
      },
      "source": [
        "from scipy.stats import ttest_ind\n",
        "\n",
        "cat1 = data[data['sentiment_imdb']==0]\n",
        "cat2 = data[data['sentiment_imdb']==1]\n",
        "cat11 = data[data['sentiment_twitter']==0]\n",
        "cat22 = data[data['sentiment_twitter']==1]\n",
        "\n",
        "print ('neg: ', cat1['likes'].mean(), cat1['likes'].std())\n",
        "print ('pos: ', cat2['likes'].mean(), cat2['likes'].std())\n",
        "print (ttest_ind(cat1['likes'], cat2['likes']))\n",
        "#print (ttest_ind(cat11['likes'], cat22['likes']))\n",
        "print ()\n",
        "print(\"twitter: \")\n",
        "print ('neg: ', cat11['likes'].mean(), cat11['likes'].std())\n",
        "print ('pos: ', cat22['likes'].mean(), cat22['likes'].std())\n",
        "#print (ttest_ind(cat1['likes'], cat2['likes']))\n",
        "print (ttest_ind(cat11['likes'], cat22['likes']))"
      ],
      "execution_count": 90,
      "outputs": [
        {
          "output_type": "stream",
          "text": [
            "neg:  5.704969126727433 112.30425865919187\n",
            "pos:  4.092191982631619 93.02587603143334\n",
            "Ttest_indResult(statistic=2.404098807363241, pvalue=0.01621422548763548)\n",
            "\n",
            "twitter: \n",
            "neg:  7.414702233250621 72.42775406741615\n",
            "pos:  4.107872534142641 104.66085895473967\n",
            "Ttest_indResult(statistic=3.8358095933009033, pvalue=0.0001252292741539345)\n"
          ],
          "name": "stdout"
        }
      ]
    },
    {
      "cell_type": "code",
      "metadata": {
        "id": "mZQfvc2mpFZR",
        "colab_type": "code",
        "colab": {
          "base_uri": "https://localhost:8080/",
          "height": 187
        },
        "outputId": "7c6939b3-1a69-4eec-96f7-9fcc49888bbe"
      },
      "source": [
        "print ('neg: ', cat1['numberOfReplies'].mean(), cat1['numberOfReplies'].std())\n",
        "print ('pos: ', cat2['numberOfReplies'].mean(), cat2['numberOfReplies'].std())\n",
        "print (ttest_ind(cat1['numberOfReplies'], cat2['numberOfReplies']))\n",
        "print (ttest_ind(cat11['numberOfReplies'], cat22['numberOfReplies']))\n",
        "print ()\n",
        "print(\"twitter: \")\n",
        "print ('neg: ', cat11['numberOfReplies'].mean(), cat11['numberOfReplies'].std())\n",
        "print ('pos: ', cat22['numberOfReplies'].mean(), cat22['numberOfReplies'].std())\n",
        "print (ttest_ind(cat1['numberOfReplies'], cat2['numberOfReplies']))\n",
        "print (ttest_ind(cat11['numberOfReplies'], cat22['numberOfReplies']))"
      ],
      "execution_count": 77,
      "outputs": [
        {
          "output_type": "stream",
          "text": [
            "neg:  0.7417524257571303 5.342526193282308\n",
            "pos:  0.2951694192447856 3.5125316105595714\n",
            "Ttest_indResult(statistic=15.736137761600789, pvalue=1.0000495482865161e-55)\n",
            "Ttest_indResult(statistic=20.142295669750897, pvalue=4.779180073911673e-90)\n",
            "\n",
            "twitter: \n",
            "neg:  1.0632754342431763 6.072424416981323\n",
            "pos:  0.3292382397572079 3.767304309126861\n",
            "Ttest_indResult(statistic=15.736137761600789, pvalue=1.0000495482865161e-55)\n",
            "Ttest_indResult(statistic=20.142295669750897, pvalue=4.779180073911673e-90)\n"
          ],
          "name": "stdout"
        }
      ]
    },
    {
      "cell_type": "code",
      "metadata": {
        "id": "cSibzzwRyrpR",
        "colab_type": "code",
        "colab": {
          "base_uri": "https://localhost:8080/",
          "height": 153
        },
        "outputId": "26dc982c-4271-49e2-9721-4a58984164ea"
      },
      "source": [
        "cat3 = data[data['sentiment_imdb_reply']==0]\n",
        "cat4 = data[data['sentiment_imdb_reply']==1]\n",
        "cat33 = data[data['sentiment_twitter_reply']==0]\n",
        "cat44 = data[data['sentiment_twitter_reply']==1]\n",
        "print ('neg: ', cat3['replies.likes'].mean(), cat3['replies.likes'].std())\n",
        "print ('pos: ', cat4['replies.likes'].mean(), cat4['replies.likes'].std())\n",
        "print (ttest_ind(cat3['replies.likes'], cat4['replies.likes']))\n",
        "#print (ttest_ind(cat11['likes'], cat22['likes']))\n",
        "print ()\n",
        "print(\"twitter: \")\n",
        "print ('neg: ', cat33['replies.likes'].mean(), cat33['replies.likes'].std())\n",
        "print ('pos: ', cat44['replies.likes'].mean(), cat44['replies.likes'].std())\n",
        "#print (ttest_ind(cat1['likes'], cat2['likes']))\n",
        "print (ttest_ind(cat33['replies.likes'], cat44['replies.likes']))"
      ],
      "execution_count": 93,
      "outputs": [
        {
          "output_type": "stream",
          "text": [
            "neg:  1.9443163681503812 6.473174291777249\n",
            "pos:  2.2306701030927836 6.148803814161286\n",
            "Ttest_indResult(statistic=-4.578146965341844, pvalue=4.703810383768535e-06)\n",
            "\n",
            "twitter: \n",
            "neg:  2.262666758830442 6.598779189429942\n",
            "pos:  1.9463429256594724 6.23573630265293\n",
            "Ttest_indResult(statistic=4.917353894214381, pvalue=8.803401445904629e-07)\n"
          ],
          "name": "stdout"
        }
      ]
    },
    {
      "cell_type": "code",
      "metadata": {
        "id": "y3YI2PLErh7B",
        "colab_type": "code",
        "colab": {}
      },
      "source": [
        "data.to_csv('comments_with_sentiment.csv')"
      ],
      "execution_count": 0,
      "outputs": []
    },
    {
      "cell_type": "code",
      "metadata": {
        "id": "8KJE2gzCr-M7",
        "colab_type": "code",
        "colab": {}
      },
      "source": [
        "# download the comments\n",
        "files.download('comments_with_sentiment.csv') "
      ],
      "execution_count": 0,
      "outputs": []
    },
    {
      "cell_type": "code",
      "metadata": {
        "id": "vBoTv1q51W3t",
        "colab_type": "code",
        "colab": {
          "base_uri": "https://localhost:8080/",
          "height": 258
        },
        "outputId": "b25b1144-84da-42dd-d830-94ba8fe43a55"
      },
      "source": [
        "texts = ['i am gay', 'i am lesbian', 'im crying too shiit', \"i am bisexual\",\"And dont come at me saying that's wrong because it is against the bible\", \"i am gay and proud it\", \"u made my heart melted\", \"stay strong\", \"I found it hard to understand if I was bi or lesbian but I found out eventually so ya lesbian squad\", \"i just wanna write that i'm lesbian.\", \"The only reason people make Coming Out videos is to get attention.\", \"Go to hell Wtf\", \"this was made on my birthday yay !!!!\"]\n",
        "labels1 = classifier.predict(texts)\n",
        "labels2 = classifier2.predict(texts)\n",
        "\n",
        "for i, t in enumerate(texts):\n",
        "  print (t, labels1[0][i],labels1[1][i], labels2[0][i], labels2[1][i])\n"
      ],
      "execution_count": 98,
      "outputs": [
        {
          "output_type": "stream",
          "text": [
            "i am gay ['__label__4'] [0.8204645] ['__label__0'] [1.00001]\n",
            "i am lesbian ['__label__4'] [0.6290098] ['__label__0'] [1.00001]\n",
            "im crying too shiit ['__label__0'] [0.65832204] ['__label__0'] [1.0000099]\n",
            "i am bisexual ['__label__0'] [0.8742035] ['__label__0'] [1.00001]\n",
            "And dont come at me saying that's wrong because it is against the bible ['__label__0'] [0.81614846] ['__label__0'] [1.00001]\n",
            "i am gay and proud it ['__label__4'] [0.99981827] ['__label__1'] [0.9999856]\n",
            "u made my heart melted ['__label__0'] [0.7135764] ['__label__1'] [1.00001]\n",
            "stay strong ['__label__4'] [0.57202417] ['__label__0'] [0.9999591]\n",
            "I found it hard to understand if I was bi or lesbian but I found out eventually so ya lesbian squad ['__label__0'] [0.79947996] ['__label__0'] [1.00001]\n",
            "i just wanna write that i'm lesbian. ['__label__0'] [0.8546706] ['__label__0'] [1.00001]\n",
            "The only reason people make Coming Out videos is to get attention. ['__label__4'] [0.5617779] ['__label__0'] [0.99919814]\n",
            "Go to hell Wtf ['__label__0'] [0.55261326] ['__label__0'] [1.00001]\n",
            "this was made on my birthday yay !!!! ['__label__4'] [0.87723064] ['__label__0'] [1.00001]\n"
          ],
          "name": "stdout"
        }
      ]
    }
  ]
}